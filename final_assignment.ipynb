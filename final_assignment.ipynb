{
  "metadata": {
    "kernelspec": {
      "name": "python",
      "display_name": "Python (Pyodide)",
      "language": "python"
    },
    "language_info": {
      "codemirror_mode": {
        "name": "python",
        "version": 3
      },
      "file_extension": ".py",
      "mimetype": "text/x-python",
      "name": "python",
      "nbconvert_exporter": "python",
      "pygments_lexer": "ipython3",
      "version": "3.8"
    }
  },
  "nbformat_minor": 5,
  "nbformat": 4,
  "cells": [
    {
      "id": "027f44dc-754b-4ef0-aab0-09633323345b",
      "cell_type": "markdown",
      "source": "# Data Science Tools and Ecosystem",
      "metadata": {}
    },
    {
      "id": "2e9fc214-331a-4132-afc1-104a8f54963c",
      "cell_type": "markdown",
      "source": "## In this notebook, Data Science Tools and Ecosystem are summarized.",
      "metadata": {}
    },
    {
      "id": "da3177ea-1f15-478e-a1a6-a586c0e0706d",
      "cell_type": "markdown",
      "source": "### Some of the popular languages that Data Scientists use are:",
      "metadata": {}
    },
    {
      "id": "ea5f8727-691a-4b7d-8778-ec7cb042ab80",
      "cell_type": "markdown",
      "source": "1. Python \n2. R \n3. SQL",
      "metadata": {}
    },
    {
      "id": "543bed08-b008-4272-8419-ff73443aa250",
      "cell_type": "markdown",
      "source": "### Objectives:",
      "metadata": {}
    },
    {
      "id": "72a2e6b8-d83e-471a-9db1-963d56c54a5e",
      "cell_type": "markdown",
      "source": "- List popular languages for Data Science\n- Identify commonly used open-source tools for Data Science\n- Create markdown tables in Jupyter Notebooks\n- Understand various development environments used in the Data Science workflow\n- Practice using Markdown formatting for documentation",
      "metadata": {}
    },
    {
      "id": "e3e979d9-3301-40f9-958b-afbec558de58",
      "cell_type": "markdown",
      "source": "### Some of the commonly used libraries used by Data Scientists include:",
      "metadata": {}
    },
    {
      "id": "be98546c-2797-49bc-890c-0c2134497526",
      "cell_type": "markdown",
      "source": "1. Pandas \n2. Numpy \n3. Matplotlib",
      "metadata": {}
    },
    {
      "id": "0b0df0a5-95a7-44a3-ba12-69822bae4485",
      "cell_type": "markdown",
      "source": "| Data Science Tools          |\n|----------------------------|\n| Jupyter Notebook           |\n| RStudio                    |\n| Visual Studio Code (VS Code) |",
      "metadata": {}
    },
    {
      "id": "2791bb86-2998-4f19-9d48-07e68358e8c6",
      "cell_type": "markdown",
      "source": "### Below are a few examples of evaluating arithmetic expressions in Python",
      "metadata": {}
    },
    {
      "id": "063229eb-1ffb-41c6-a9d7-418a3f0d7779",
      "cell_type": "code",
      "source": "#This a simple arithmetic expression to mutiply then add integers\n(3*4)+5",
      "metadata": {
        "trusted": true
      },
      "outputs": [
        {
          "execution_count": 1,
          "output_type": "execute_result",
          "data": {
            "text/plain": "17"
          },
          "metadata": {}
        }
      ],
      "execution_count": 1
    },
    {
      "id": "efd48bd1-89ce-4f1f-8b2d-7bc7e909e9ea",
      "cell_type": "code",
      "source": "# This will convert 200 minutes to hours by diving by 60\n200 / 60 ",
      "metadata": {
        "trusted": true
      },
      "outputs": [
        {
          "execution_count": 2,
          "output_type": "execute_result",
          "data": {
            "text/plain": "3.3333333333333335"
          },
          "metadata": {}
        }
      ],
      "execution_count": 2
    },
    {
      "id": "cbc25eeb-08d4-4503-a658-f43e1f928d13",
      "cell_type": "markdown",
      "source": "## Author :",
      "metadata": {}
    },
    {
      "id": "fa081739-892e-4d6c-a858-81d772346fcb",
      "cell_type": "markdown",
      "source": "#### Omar rizk",
      "metadata": {}
    },
    {
      "id": "b1ef4f5b-b421-4e96-a36d-422806a80e2d",
      "cell_type": "code",
      "source": "",
      "metadata": {
        "trusted": true
      },
      "outputs": [],
      "execution_count": null
    }
  ]
}